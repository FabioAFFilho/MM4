{
 "cells": [
  {
   "cell_type": "code",
   "execution_count": 4,
   "metadata": {},
   "outputs": [],
   "source": [
    "%display typeset"
   ]
  },
  {
   "cell_type": "code",
   "execution_count": 5,
   "metadata": {},
   "outputs": [
    {
     "data": {
      "text/html": [
       "<html><script type=\"math/tex; mode=display\">\\newcommand{\\Bold}[1]{\\mathbf{#1}}-I S \\beta + L \\delta - S {\\left(\\eta + \\gamma\\right)} + N \\mu</script></html>"
      ],
      "text/plain": [
       "-I*S*beta + L*delta - S*(eta + gamma) + N*mu"
      ]
     },
     "execution_count": 5,
     "metadata": {},
     "output_type": "execute_result"
    }
   ],
   "source": [
    "var('M T mu beta gamma eta delta epsilon alpha N S I L E R A')\n",
    "dSdt = mu*N - beta*S*I - (gamma+eta)*S + delta*L\n",
    "dSdt"
   ]
  },
  {
   "cell_type": "code",
   "execution_count": 6,
   "metadata": {},
   "outputs": [
    {
     "data": {
      "text/html": [
       "<html><script type=\"math/tex; mode=display\">\\newcommand{\\Bold}[1]{\\mathbf{#1}}-L {\\left(\\delta + \\gamma\\right)} + S \\eta</script></html>"
      ],
      "text/plain": [
       "-L*(delta + gamma) + S*eta"
      ]
     },
     "execution_count": 6,
     "metadata": {},
     "output_type": "execute_result"
    }
   ],
   "source": [
    "dLdt = eta*S-(gamma+delta)*L\n",
    "dLdt"
   ]
  },
  {
   "cell_type": "code",
   "execution_count": 7,
   "metadata": {},
   "outputs": [
    {
     "data": {
      "text/html": [
       "<html><script type=\"math/tex; mode=display\">\\newcommand{\\Bold}[1]{\\mathbf{#1}}I S \\beta - E {\\left(\\epsilon + \\gamma\\right)}</script></html>"
      ],
      "text/plain": [
       "I*S*beta - E*(epsilon + gamma)"
      ]
     },
     "execution_count": 7,
     "metadata": {},
     "output_type": "execute_result"
    }
   ],
   "source": [
    "dEdt = beta*S*I-(gamma + epsilon)*E\n",
    "dEdt"
   ]
  },
  {
   "cell_type": "code",
   "execution_count": 8,
   "metadata": {},
   "outputs": [
    {
     "data": {
      "text/html": [
       "<html><script type=\"math/tex; mode=display\">\\newcommand{\\Bold}[1]{\\mathbf{#1}}-I {\\left(\\alpha + \\gamma\\right)} + E \\epsilon</script></html>"
      ],
      "text/plain": [
       "-I*(alpha + gamma) + E*epsilon"
      ]
     },
     "execution_count": 8,
     "metadata": {},
     "output_type": "execute_result"
    }
   ],
   "source": [
    "dIdt = epsilon*E-(gamma+alpha)*I \n",
    "dIdt"
   ]
  },
  {
   "cell_type": "code",
   "execution_count": 9,
   "metadata": {},
   "outputs": [
    {
     "data": {
      "text/html": [
       "<html><script type=\"math/tex; mode=display\">\\newcommand{\\Bold}[1]{\\mathbf{#1}}I \\alpha - R \\gamma</script></html>"
      ],
      "text/plain": [
       "I*alpha - R*gamma"
      ]
     },
     "execution_count": 9,
     "metadata": {},
     "output_type": "execute_result"
    }
   ],
   "source": [
    "dRdt = alpha*I-gamma*R\n",
    "dRdt"
   ]
  },
  {
   "cell_type": "markdown",
   "metadata": {},
   "source": [
    "Primeira equação:"
   ]
  },
  {
   "cell_type": "code",
   "execution_count": 10,
   "metadata": {},
   "outputs": [
    {
     "data": {
      "text/html": [
       "<html><script type=\"math/tex; mode=display\">\\newcommand{\\Bold}[1]{\\mathbf{#1}}-M^{2} \\beta + M \\delta - M \\eta - M \\gamma + M \\mu</script></html>"
      ],
      "text/plain": [
       "-M^2*beta + M*delta - M*eta - M*gamma + M*mu"
      ]
     },
     "execution_count": 10,
     "metadata": {},
     "output_type": "execute_result"
    }
   ],
   "source": [
    "DdS = expand(dSdt).substitute(N=M, S=M, L=M, I=M)\n",
    "DdS"
   ]
  },
  {
   "cell_type": "code",
   "execution_count": 11,
   "metadata": {},
   "outputs": [
    {
     "data": {
      "text/html": [
       "<html><script type=\"math/tex; mode=display\">\\newcommand{\\Bold}[1]{\\mathbf{#1}}-M^{2} \\beta</script></html>"
      ],
      "text/plain": [
       "-M^2*beta"
      ]
     },
     "execution_count": 11,
     "metadata": {},
     "output_type": "execute_result"
    }
   ],
   "source": [
    "Dds2 = expand(DdS).substitute(delta = 1/T, mu = 1/T, gamma= 1/T, eta = 1/T)\n",
    "Dds2"
   ]
  },
  {
   "cell_type": "code",
   "execution_count": 12,
   "metadata": {},
   "outputs": [
    {
     "data": {
      "text/html": [
       "<html><script type=\"math/tex; mode=display\">\\newcommand{\\Bold}[1]{\\mathbf{#1}}\\left[\\beta = -\\frac{1}{M T}\\right]</script></html>"
      ],
      "text/plain": [
       "[beta == -1/(M*T)]"
      ]
     },
     "execution_count": 12,
     "metadata": {},
     "output_type": "execute_result"
    }
   ],
   "source": [
    "solve(-M*M*beta-M/T, beta)"
   ]
  },
  {
   "cell_type": "markdown",
   "metadata": {},
   "source": [
    "Segunda Equação:"
   ]
  },
  {
   "cell_type": "code",
   "execution_count": 13,
   "metadata": {},
   "outputs": [
    {
     "data": {
      "text/html": [
       "<html><script type=\"math/tex; mode=display\">\\newcommand{\\Bold}[1]{\\mathbf{#1}}-M \\delta + M \\eta - M \\gamma</script></html>"
      ],
      "text/plain": [
       "-M*delta + M*eta - M*gamma"
      ]
     },
     "execution_count": 13,
     "metadata": {},
     "output_type": "execute_result"
    }
   ],
   "source": [
    "Ddl = expand(dLdt).substitute(L=M, S=M)\n",
    "Ddl"
   ]
  },
  {
   "cell_type": "code",
   "execution_count": 14,
   "metadata": {},
   "outputs": [
    {
     "data": {
      "text/html": [
       "<html><script type=\"math/tex; mode=display\">\\newcommand{\\Bold}[1]{\\mathbf{#1}}-\\frac{M}{T}</script></html>"
      ],
      "text/plain": [
       "-M/T"
      ]
     },
     "execution_count": 14,
     "metadata": {},
     "output_type": "execute_result"
    }
   ],
   "source": [
    "Ddl2 = expand(Ddl).substitute(delta = 1/T, gamma= 1/T, eta = 1/T)\n",
    "Ddl2"
   ]
  },
  {
   "cell_type": "markdown",
   "metadata": {},
   "source": [
    "Terceira equação:\n"
   ]
  },
  {
   "cell_type": "code",
   "execution_count": 15,
   "metadata": {},
   "outputs": [
    {
     "data": {
      "text/html": [
       "<html><script type=\"math/tex; mode=display\">\\newcommand{\\Bold}[1]{\\mathbf{#1}}M^{2} \\beta - M \\epsilon - M \\gamma</script></html>"
      ],
      "text/plain": [
       "M^2*beta - M*epsilon - M*gamma"
      ]
     },
     "execution_count": 15,
     "metadata": {},
     "output_type": "execute_result"
    }
   ],
   "source": [
    "Dde = expand(dEdt).substitute(S=M, E=M, I=M)\n",
    "Dde"
   ]
  },
  {
   "cell_type": "code",
   "execution_count": 16,
   "metadata": {},
   "outputs": [
    {
     "data": {
      "text/html": [
       "<html><script type=\"math/tex; mode=display\">\\newcommand{\\Bold}[1]{\\mathbf{#1}}-M \\epsilon</script></html>"
      ],
      "text/plain": [
       "-M*epsilon"
      ]
     },
     "execution_count": 16,
     "metadata": {},
     "output_type": "execute_result"
    }
   ],
   "source": [
    "Dde2 = expand(Dde).substitute(beta = 1/(M*T), gamma= 1/T)\n",
    "Dde2"
   ]
  },
  {
   "cell_type": "code",
   "execution_count": 17,
   "metadata": {},
   "outputs": [
    {
     "data": {
      "text/html": [
       "<html><script type=\"math/tex; mode=display\">\\newcommand{\\Bold}[1]{\\mathbf{#1}}\\left[\\epsilon = -\\frac{1}{T}\\right]</script></html>"
      ],
      "text/plain": [
       "[epsilon == -1/T]"
      ]
     },
     "execution_count": 17,
     "metadata": {},
     "output_type": "execute_result"
    }
   ],
   "source": [
    "solve(-M*epsilon-M/T, epsilon)"
   ]
  },
  {
   "cell_type": "markdown",
   "metadata": {},
   "source": [
    "Na quarta equação:\n"
   ]
  },
  {
   "cell_type": "code",
   "execution_count": 18,
   "metadata": {},
   "outputs": [
    {
     "data": {
      "text/html": [
       "<html><script type=\"math/tex; mode=display\">\\newcommand{\\Bold}[1]{\\mathbf{#1}}-M \\alpha + M \\epsilon - M \\gamma</script></html>"
      ],
      "text/plain": [
       "-M*alpha + M*epsilon - M*gamma"
      ]
     },
     "execution_count": 18,
     "metadata": {},
     "output_type": "execute_result"
    }
   ],
   "source": [
    "Ddi = expand(dIdt).substitute(E=M, I=M)\n",
    "Ddi"
   ]
  },
  {
   "cell_type": "code",
   "execution_count": 21,
   "metadata": {},
   "outputs": [
    {
     "data": {
      "text/html": [
       "<html><script type=\"math/tex; mode=display\">\\newcommand{\\Bold}[1]{\\mathbf{#1}}-M \\alpha</script></html>"
      ],
      "text/plain": [
       "-M*alpha"
      ]
     },
     "execution_count": 21,
     "metadata": {},
     "output_type": "execute_result"
    }
   ],
   "source": [
    "Ddi2 = expand(Ddi).substitute(epsilon = 1/(T), gamma= 1/T)\n",
    "Ddi2"
   ]
  },
  {
   "cell_type": "code",
   "execution_count": 22,
   "metadata": {},
   "outputs": [
    {
     "data": {
      "text/html": [
       "<html><script type=\"math/tex; mode=display\">\\newcommand{\\Bold}[1]{\\mathbf{#1}}\\left[\\alpha = -\\frac{1}{T}\\right]</script></html>"
      ],
      "text/plain": [
       "[alpha == -1/T]"
      ]
     },
     "execution_count": 22,
     "metadata": {},
     "output_type": "execute_result"
    }
   ],
   "source": [
    "solve(Ddi2-M/T,alpha)"
   ]
  },
  {
   "cell_type": "markdown",
   "metadata": {},
   "source": [
    "Adimensionalidade em relação a massa:\n"
   ]
  },
  {
   "cell_type": "markdown",
   "metadata": {},
   "source": [
    "Equação 1: Substituindo $I^*=I/N, L^*=L/N, S^*=S/N, \\beta1=\\beta/(N)$ teremos que"
   ]
  },
  {
   "cell_type": "code",
   "execution_count": 23,
   "metadata": {},
   "outputs": [
    {
     "data": {
      "text/html": [
       "<html><script type=\"math/tex; mode=display\">\\newcommand{\\Bold}[1]{\\mathbf{#1}}-I_{1} S_{1} \\beta_{1} + L_{1} \\delta - S_{1} \\eta - S_{1} \\gamma + \\mu</script></html>"
      ],
      "text/plain": [
       "-I1*S1*beta1 + L1*delta - S1*eta - S1*gamma + mu"
      ]
     },
     "execution_count": 23,
     "metadata": {},
     "output_type": "execute_result"
    }
   ],
   "source": [
    "var('I1 L1 S1 E1 R1 beta1')\n",
    "dS1 = expand(dSdt/N).substitute(I=I1*N, L=L1*N, S=S1*N, beta = beta1/N)\n",
    "dS1"
   ]
  },
  {
   "cell_type": "markdown",
   "metadata": {},
   "source": [
    "Segunda equação:"
   ]
  },
  {
   "cell_type": "code",
   "execution_count": 84,
   "metadata": {},
   "outputs": [
    {
     "data": {
      "text/html": [
       "<html><script type=\"math/tex; mode=display\">\\newcommand{\\Bold}[1]{\\mathbf{#1}}-L_{1} \\delta + S_{1} \\eta - L_{1} \\gamma</script></html>"
      ],
      "text/plain": [
       "-L1*delta + S1*eta - L1*gamma"
      ]
     },
     "execution_count": 84,
     "metadata": {},
     "output_type": "execute_result"
    }
   ],
   "source": [
    "dL1 = expand(dLdt/N).substitute(I=I1*N, L=L1*N, S=S1*N, R=R1*N, E=E1*N)\n",
    "dL1"
   ]
  },
  {
   "cell_type": "markdown",
   "metadata": {},
   "source": [
    "Terceira equação:"
   ]
  },
  {
   "cell_type": "code",
   "execution_count": 98,
   "metadata": {},
   "outputs": [
    {
     "data": {
      "text/html": [
       "<html><script type=\"math/tex; mode=display\">\\newcommand{\\Bold}[1]{\\mathbf{#1}}I_{1} S_{1} \\beta_{1} - E_{1} \\epsilon - E_{1} \\gamma</script></html>"
      ],
      "text/plain": [
       "I1*S1*beta1 - E1*epsilon - E1*gamma"
      ]
     },
     "execution_count": 98,
     "metadata": {},
     "output_type": "execute_result"
    }
   ],
   "source": [
    "dE1 = expand(dEdt/N).substitute(I=I1*N, L=L1*N, S=S1*N, R=R1*N, E=E1*N, beta = beta1/(N))\n",
    "dE1"
   ]
  },
  {
   "cell_type": "markdown",
   "metadata": {},
   "source": [
    "Quarta equação:"
   ]
  },
  {
   "cell_type": "code",
   "execution_count": 86,
   "metadata": {},
   "outputs": [
    {
     "data": {
      "text/html": [
       "<html><script type=\"math/tex; mode=display\">\\newcommand{\\Bold}[1]{\\mathbf{#1}}-I_{1} \\alpha + E_{1} \\epsilon - I_{1} \\gamma</script></html>"
      ],
      "text/plain": [
       "-I1*alpha + E1*epsilon - I1*gamma"
      ]
     },
     "execution_count": 86,
     "metadata": {},
     "output_type": "execute_result"
    }
   ],
   "source": [
    "dI1 = expand(dIdt/N).substitute(I=I1*N, L=L1*N, S=S1*N, R=R1*N, E=E1*N)\n",
    "dI1"
   ]
  },
  {
   "cell_type": "markdown",
   "metadata": {},
   "source": [
    "Quinta equação:"
   ]
  },
  {
   "cell_type": "code",
   "execution_count": 89,
   "metadata": {},
   "outputs": [
    {
     "data": {
      "text/html": [
       "<html><script type=\"math/tex; mode=display\">\\newcommand{\\Bold}[1]{\\mathbf{#1}}I_{1} \\alpha - R_{1} \\gamma</script></html>"
      ],
      "text/plain": [
       "I1*alpha - R1*gamma"
      ]
     },
     "execution_count": 89,
     "metadata": {},
     "output_type": "execute_result"
    }
   ],
   "source": [
    "dR1 = expand(dRdt/N).substitute(I=I1*N, L=L1*N, S=S1*N, R=R1*N, E=E1*N)\n",
    "dR1"
   ]
  },
  {
   "cell_type": "markdown",
   "metadata": {},
   "source": [
    "Adimensionalidade em relação ao tempo:"
   ]
  },
  {
   "cell_type": "code",
   "execution_count": 101,
   "metadata": {},
   "outputs": [
    {
     "data": {
      "text/html": [
       "<html><script type=\"math/tex; mode=display\">\\newcommand{\\Bold}[1]{\\mathbf{#1}}-\\frac{I_{1} S_{1} \\beta_{1} - L_{1} \\delta + S_{1} \\eta + S_{1} \\gamma - \\mu}{\\alpha}</script></html>"
      ],
      "text/plain": [
       "-(I1*S1*beta1 - L1*delta + S1*eta + S1*gamma - mu)/alpha"
      ]
     },
     "execution_count": 101,
     "metadata": {},
     "output_type": "execute_result"
    }
   ],
   "source": [
    "var('mu1 gamma1 eta1 delta1 epsilon1 alpha1')\n",
    "dS2 = dS1/alpha\n",
    "dS2"
   ]
  },
  {
   "cell_type": "code",
   "execution_count": 102,
   "metadata": {},
   "outputs": [
    {
     "data": {
      "text/html": [
       "<html><script type=\"math/tex; mode=display\">\\newcommand{\\Bold}[1]{\\mathbf{#1}}-\\frac{L_{1} \\delta - S_{1} \\eta + L_{1} \\gamma}{\\alpha}</script></html>"
      ],
      "text/plain": [
       "-(L1*delta - S1*eta + L1*gamma)/alpha"
      ]
     },
     "execution_count": 102,
     "metadata": {},
     "output_type": "execute_result"
    }
   ],
   "source": [
    "dL2 = dL1/alpha\n",
    "dL2"
   ]
  },
  {
   "cell_type": "code",
   "execution_count": 103,
   "metadata": {},
   "outputs": [
    {
     "data": {
      "text/html": [
       "<html><script type=\"math/tex; mode=display\">\\newcommand{\\Bold}[1]{\\mathbf{#1}}\\frac{I_{1} S_{1} \\beta_{1} - E_{1} \\epsilon - E_{1} \\gamma}{\\alpha}</script></html>"
      ],
      "text/plain": [
       "(I1*S1*beta1 - E1*epsilon - E1*gamma)/alpha"
      ]
     },
     "execution_count": 103,
     "metadata": {},
     "output_type": "execute_result"
    }
   ],
   "source": [
    "dE2 = dE1/alpha\n",
    "dE2"
   ]
  },
  {
   "cell_type": "code",
   "execution_count": 104,
   "metadata": {},
   "outputs": [
    {
     "data": {
      "text/html": [
       "<html><script type=\"math/tex; mode=display\">\\newcommand{\\Bold}[1]{\\mathbf{#1}}-\\frac{I_{1} \\alpha - E_{1} \\epsilon + I_{1} \\gamma}{\\alpha}</script></html>"
      ],
      "text/plain": [
       "-(I1*alpha - E1*epsilon + I1*gamma)/alpha"
      ]
     },
     "execution_count": 104,
     "metadata": {},
     "output_type": "execute_result"
    }
   ],
   "source": [
    "dI2 = dI1/alpha\n",
    "dI2"
   ]
  },
  {
   "cell_type": "code",
   "execution_count": 105,
   "metadata": {},
   "outputs": [
    {
     "data": {
      "text/html": [
       "<html><script type=\"math/tex; mode=display\">\\newcommand{\\Bold}[1]{\\mathbf{#1}}\\frac{I_{1} \\alpha - R_{1} \\gamma}{\\alpha}</script></html>"
      ],
      "text/plain": [
       "(I1*alpha - R1*gamma)/alpha"
      ]
     },
     "execution_count": 105,
     "metadata": {},
     "output_type": "execute_result"
    }
   ],
   "source": [
    "dR2 = dR1/alpha\n",
    "dR2"
   ]
  },
  {
   "cell_type": "code",
   "execution_count": null,
   "metadata": {},
   "outputs": [],
   "source": []
  },
  {
   "cell_type": "code",
   "execution_count": null,
   "metadata": {},
   "outputs": [],
   "source": []
  },
  {
   "cell_type": "code",
   "execution_count": null,
   "metadata": {},
   "outputs": [],
   "source": []
  }
 ],
 "metadata": {
  "kernelspec": {
   "display_name": "SageMath 9.0",
   "language": "sage",
   "name": "sagemath"
  },
  "language_info": {
   "codemirror_mode": {
    "name": "ipython",
    "version": 3
   },
   "file_extension": ".py",
   "mimetype": "text/x-python",
   "name": "python",
   "nbconvert_exporter": "python",
   "pygments_lexer": "ipython3",
   "version": "3.7.8"
  }
 },
 "nbformat": 4,
 "nbformat_minor": 4
}
